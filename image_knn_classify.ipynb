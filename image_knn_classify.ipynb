{
 "cells": [
  {
   "cell_type": "code",
   "execution_count": 1,
   "metadata": {},
   "outputs": [],
   "source": [
    "#Classifying night, portrait, landscape images using knn"
   ]
  },
  {
   "cell_type": "code",
   "execution_count": 2,
   "metadata": {},
   "outputs": [],
   "source": [
    "from sklearn.neighbors import KNeighborsClassifier\n",
    "from sklearn.model_selection import train_test_split\n",
    "import cv2\n",
    "import os\n",
    "import numpy as np\n",
    "from sklearn import metrics\n",
    "import matplotlib.pyplot as plt"
   ]
  },
  {
   "cell_type": "code",
   "execution_count": 3,
   "metadata": {},
   "outputs": [],
   "source": [
    "# function to extract rgb featire vectors from image\n",
    "def image_to_feature_vector(image):\n",
    "    size = (32, 32)\n",
    "    img = cv2.resize(image, size)\n",
    "    return img.flatten()\n"
   ]
  },
  {
   "cell_type": "code",
   "execution_count": 4,
   "metadata": {},
   "outputs": [],
   "source": [
    "def extract_lab_histogram(image):\n",
    "\n",
    "    # number of bins per channel\n",
    "    bins = (8, 8, 8)\n",
    "\n",
    "    # converting to Lab color space\n",
    "    # Lumosity plays a big role here, night images will have less lumosity compared to portrait and landscape\n",
    "    lab_image = cv2.cvtColor(image, cv2.COLOR_BGR2LAB)\n",
    "\n",
    "    # extracting individual channel information as histogram from LAB color space\n",
    "    lab_hist = cv2.calcHist([lab_image], [0, 1, 2], None, bins, [0, 256, 0, 256, 0, 256])\n",
    "\n",
    "    cv2.normalize(lab_hist, lab_hist)\n",
    "    # flatten histogram to which is to be used as feature vector for classification\n",
    "    return lab_hist.flatten()"
   ]
  },
  {
   "cell_type": "code",
   "execution_count": 5,
   "metadata": {},
   "outputs": [],
   "source": [
    "def extract_hsv_histogram(image):\n",
    "\n",
    "    # number of bins per channel\n",
    "    bins = (8, 8, 8)\n",
    "\n",
    "    # converting to HSV color space\n",
    "    hsv_image = cv2.cvtColor(image, cv2.COLOR_BGR2HSV)\n",
    "\n",
    "    # the value channel in histogram is ranged from 200 to 255. This can prove good in classifying night images\n",
    "    hsv_hist = cv2.calcHist([hsv_image], [0, 1, 2], None, bins, [0, 256, 0, 256, 0, 255])\n",
    "\n",
    "    cv2.normalize(hsv_hist, hsv_hist)\n",
    "    # flatten histogram to which is to be used as feature vector for classification\n",
    "    return hsv_hist.flatten()"
   ]
  },
  {
   "cell_type": "code",
   "execution_count": 6,
   "metadata": {},
   "outputs": [],
   "source": [
    "rawImages = []\n",
    "features = []\n",
    "labels = []\n"
   ]
  },
  {
   "cell_type": "code",
   "execution_count": 7,
   "metadata": {},
   "outputs": [],
   "source": [
    "# Reading images from disk\n",
    "# since images are put into separate folder based on label, will be using these folder names as labels\n",
    "dataset_dir = \"dataset/\"\n",
    "for dir in os.listdir(dataset_dir):\n",
    "    #print(dir)\n",
    "\n",
    "    for root, subdir, files in os.walk(os.path.join(dataset_dir, dir)):\n",
    "        for filename in files:\n",
    "            #print(dir)\n",
    "            #print(filename)\n",
    "            image = cv2.imread(os.path.join(root, filename))\n",
    "            label = dir\n",
    "\n",
    "            # Extracting raw pixels from image as bgr\n",
    "            #pixels = image_to_feature_vector(image)\n",
    "\n",
    "            # Extracting LAB 3 channel histogram from image\n",
    "            hist_lab = extract_lab_histogram(image)\n",
    "\n",
    "            # Extracting HSV 3 channel histogram from image\n",
    "            #hist_hsv = extract_hsv_histogram(image)\n",
    "\n",
    "            # Creating feature vector as a combination of HSV and LAB histogram features. Provides better accuracy\n",
    "            train_hist = hist_lab\n",
    "\n",
    "            #rawImages.append(pixels)\n",
    "            features.append(train_hist)\n",
    "\n",
    "            labels.append(label)"
   ]
  },
  {
   "cell_type": "code",
   "execution_count": 8,
   "metadata": {},
   "outputs": [],
   "source": [
    "# Splitting data into test and train. 80% of data will be used for training, 20% will be used for validation.\n",
    "# (train_data, test_data, train_data_labels, test_data_labels) = train_test_split(\n",
    "#      rawImages, labels, test_size=0.25, random_state=40)\n",
    "\n",
    "\n",
    "# Splitting data into test and train. 80% of data will be used for training, 20% will be used for validation.\n",
    "(train_features, test_features, train_labels, test_labels) = train_test_split(\n",
    "\tfeatures, labels, test_size=0.25, random_state=40)\n"
   ]
  },
  {
   "cell_type": "code",
   "execution_count": 10,
   "metadata": {},
   "outputs": [
    {
     "name": "stdout",
     "output_type": "stream",
     "text": [
      "Traning KNN starting ...\n",
      "Traning KNN ends ...\n",
      "Result of test dataset part for lab based features-> \n",
      "['portrait' 'portrait' 'landscape' 'night' 'landscape' 'night' 'portrait'\n",
      " 'portrait' 'night' 'night' 'landscape' 'night' 'portrait' 'portrait'\n",
      " 'portrait' 'landscape' 'landscape' 'night' 'landscape' 'night' 'portrait'\n",
      " 'landscape' 'portrait' 'landscape' 'night' 'portrait' 'landscape' 'night'\n",
      " 'portrait' 'night' 'night' 'portrait' 'night' 'night' 'portrait'\n",
      " 'landscape' 'portrait' 'night' 'night' 'landscape' 'portrait' 'landscape'\n",
      " 'night' 'portrait' 'night' 'night' 'portrait' 'night' 'night' 'night'\n",
      " 'night' 'landscape' 'landscape' 'portrait' 'night' 'landscape' 'night'\n",
      " 'night' 'portrait' 'landscape' 'landscape' 'night' 'portrait' 'landscape'\n",
      " 'landscape' 'night' 'landscape' 'portrait' 'night' 'landscape' 'night'\n",
      " 'night' 'night' 'night' 'night' 'landscape' 'landscape' 'night' 'night'\n",
      " 'night' 'landscape' 'landscape' 'night' 'portrait' 'portrait' 'portrait'\n",
      " 'landscape' 'landscape' 'night' 'portrait' 'night' 'portrait' 'night'\n",
      " 'portrait' 'landscape' 'landscape' 'landscape' 'portrait' 'landscape'\n",
      " 'portrait' 'landscape' 'night' 'night' 'night' 'night' 'portrait'\n",
      " 'landscape']\n",
      "Accuracy achieved -> 74.77\n"
     ]
    }
   ],
   "source": [
    "# train and evaluate an NN classifer on the histogram\n",
    "# Traing KNN on features extracted from lab and hsv color spaces of image\n",
    "print(\"Traning KNN starting ...\")\n",
    "model = KNeighborsClassifier(n_neighbors=5, metric=\"euclidean\", algorithm=\"auto\")\n",
    "model.fit(train_features, train_labels)\n",
    "print(\"Traning KNN ends ...\")\n",
    "acc = model.score(test_features, test_labels)\n",
    "#print(type(acc))\n",
    "\n",
    "test_res = model.predict(test_features)\n",
    "print(\"Result of test dataset part for lab based features-> \")\n",
    "print(test_res)\n",
    "\n",
    "print(\"Accuracy achieved -> %.2f\" %(acc * 100))"
   ]
  },
  {
   "cell_type": "code",
   "execution_count": 11,
   "metadata": {},
   "outputs": [
    {
     "data": {
      "image/png": "[encoded data removed]",
      "text/plain": [
       "<Figure size 432x288 with 1 Axes>"
      ]
     },
     "metadata": {
      "needs_background": "light"
     },
     "output_type": "display_data"
    },
    {
     "data": {
      "image/png": "[encoded data removed]",
      "text/plain": [
       "<Figure size 432x288 with 1 Axes>"
      ]
     },
     "metadata": {
      "needs_background": "light"
     },
     "output_type": "display_data"
    },
    {
     "data": {
      "image/png": "[encoded data removed]",
      "text/plain": [
       "<Figure size 432x288 with 1 Axes>"
      ]
     },
     "metadata": {
      "needs_background": "light"
     },
     "output_type": "display_data"
    }
   ],
   "source": [
    "\n",
    "#print(metrics.confusion_matrix(test_labels, test_res))\n",
    "\n",
    "y_pred_prob = model.predict_proba(test_features)[:, 0]\n",
    "plt.hist(y_pred_prob, bins=16)\n",
    "\n",
    "# x-axis limit from 0 to 1\n",
    "plt.xlim(0,1)\n",
    "plt.title('Histogram of predicted probabilities')\n",
    "plt.xlabel('Predicted probability of landscape')\n",
    "plt.ylabel('Frequency')\n",
    "plt.show()\n",
    "\n",
    "\n",
    "#print(metrics.confusion_matrix(test_labels, test_res))\n",
    "\n",
    "y_pred_prob = model.predict_proba(test_features)[:, 1]\n",
    "plt.hist(y_pred_prob, bins=16)\n",
    "\n",
    "# x-axis limit from 0 to 1\n",
    "plt.xlim(0,1)\n",
    "plt.title('Histogram of predicted probabilities')\n",
    "plt.xlabel('Predicted probability of night')\n",
    "plt.ylabel('Frequency')\n",
    "plt.show()\n",
    "\n",
    "\n",
    "#print(metrics.confusion_matrix(test_labels, test_res))\n",
    "\n",
    "y_pred_prob = model.predict_proba(test_features)[:, 2]\n",
    "plt.hist(y_pred_prob, bins=16)\n",
    "\n",
    "# x-axis limit from 0 to 1\n",
    "plt.xlim(0,1)\n",
    "plt.title('Histogram of predicted probabilities')\n",
    "plt.xlabel('Predicted probability of portrait')\n",
    "plt.ylabel('Frequency')\n",
    "plt.show()"
   ]
  },
  {
   "cell_type": "code",
   "execution_count": 21,
   "metadata": {},
   "outputs": [
    {
     "name": "stdout",
     "output_type": "stream",
     "text": [
      "Predicted class/ label =  ['portrait']\n"
     ]
    }
   ],
   "source": [
    "# Testing our model -\n",
    "\n",
    "image = cv2.imread(\"portrait_test.jpg\")\n",
    "hist_lab = extract_lab_histogram(image)\n",
    "\n",
    "hist_modified = hist_lab\n",
    "\n",
    "features=[]\n",
    "features.append(hist_lab)\n",
    "res = model.predict(features)\n",
    "print(\"Predicted class/ label = \", res)\n",
    "\n",
    "cv2.imshow(\"Image\",image)\n",
    "cv2.waitKey()\n",
    "cv2.destroyAllWindows()"
   ]
  },
  {
   "cell_type": "code",
   "execution_count": 22,
   "metadata": {},
   "outputs": [
    {
     "name": "stdout",
     "output_type": "stream",
     "text": [
      "Predicted class/ label =  ['landscape']\n"
     ]
    }
   ],
   "source": [
    "# Testing our model -\n",
    "\n",
    "image = cv2.imread(\"landscape_test.jpg\")\n",
    "hist_lab = extract_lab_histogram(image)\n",
    "\n",
    "hist_modified = hist_lab\n",
    "\n",
    "features=[]\n",
    "features.append(hist_lab)\n",
    "res = model.predict(features)\n",
    "print(\"Predicted class/ label = \", res)\n",
    "\n",
    "cv2.imshow(\"Image\",image)\n",
    "cv2.waitKey()\n",
    "cv2.destroyAllWindows()"
   ]
  },
  {
   "cell_type": "code",
   "execution_count": 23,
   "metadata": {},
   "outputs": [
    {
     "name": "stdout",
     "output_type": "stream",
     "text": [
      "Predicted class/ label =  ['night']\n"
     ]
    }
   ],
   "source": [
    "# Testing our model -\n",
    "\n",
    "image = cv2.imread(\"night_test.jpg\")\n",
    "hist_lab = extract_lab_histogram(image)\n",
    "\n",
    "hist_modified = hist_lab\n",
    "\n",
    "features=[]\n",
    "features.append(hist_lab)\n",
    "res = model.predict(features)\n",
    "print(\"Predicted class/ label = \", res)\n",
    "\n",
    "cv2.imshow(\"Image\",image)\n",
    "cv2.waitKey()\n",
    "cv2.destroyAllWindows()"
   ]
  },
  {
   "cell_type": "code",
   "execution_count": 24,
   "metadata": {},
   "outputs": [
    {
     "data": {
      "text/plain": [
       "<matplotlib.axes._subplots.AxesSubplot at 0x19d04d1c080>"
      ]
     },
     "execution_count": 24,
     "metadata": {},
     "output_type": "execute_result"
    },
    {
     "data": {
      "image/png": "[encoded data removed]",
      "text/plain": [
       "<Figure size 432x288 with 2 Axes>"
      ]
     },
     "metadata": {},
     "output_type": "display_data"
    }
   ],
   "source": [
    "import pandas as pd\n",
    "import seaborn as sn\n",
    "\n",
    "conf_matrix = metrics.confusion_matrix(test_labels, test_res)\n",
    "\n",
    "df_cm = pd.DataFrame(conf_matrix, range(3), range(3))\n",
    "sn.set(font_scale=1.4)#for label size\n",
    "sn.heatmap(df_cm, annot=True,annot_kws={\"size\": 16})# font size"
   ]
  },
  {
   "cell_type": "code",
   "execution_count": null,
   "metadata": {},
   "outputs": [],
   "source": []
  }
 ],
 "metadata": {
  "kernelspec": {
   "display_name": "Python 3",
   "language": "python",
   "name": "python3"
  },
  "language_info": {
   "codemirror_mode": {
    "name": "ipython",
    "version": 3
   },
   "file_extension": ".py",
   "mimetype": "text/x-python",
   "name": "python",
   "nbconvert_exporter": "python",
   "pygments_lexer": "ipython3",
   "version": "3.6.3"
  }
 },
 "nbformat": 4,
 "nbformat_minor": 2
}
